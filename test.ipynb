{
 "cells": [
  {
   "cell_type": "markdown",
   "id": "8741178d",
   "metadata": {},
   "source": [
    "#### 让你的bash更丰富---rich"
   ]
  },
  {
   "cell_type": "code",
   "execution_count": null,
   "id": "1c646be5",
   "metadata": {},
   "outputs": [
    {
     "data": {
      "text/html": [
       "<pre style=\"white-space:pre;overflow-x:auto;line-height:normal;font-family:Menlo,'DejaVu Sans Mono',consolas,'Courier New',monospace\">Hello, <span style=\"color: #008000; text-decoration-color: #008000; font-weight: bold\">World</span>!\n",
       "</pre>\n"
      ],
      "text/plain": [
       "Hello, \u001b[1;32mWorld\u001b[0m!\n"
      ]
     },
     "metadata": {},
     "output_type": "display_data"
    }
   ],
   "source": [
    "from rich.console import Console\n",
    "console = Console()\n",
    "console.print(\"Hello, [bold green]World[/bold green]!\")"
   ]
  },
  {
   "cell_type": "code",
   "execution_count": 1,
   "id": "aaa56339",
   "metadata": {},
   "outputs": [
    {
     "data": {
      "text/html": [
       "<pre style=\"white-space:pre;overflow-x:auto;line-height:normal;font-family:Menlo,'DejaVu Sans Mono',consolas,'Courier New',monospace\">┏━━━━━━━━━━━━━━┳━━━━━━━━━━━━━━━━━━━━━━━━━━━━━━━━━━┳━━━━━━━━━━━━━━━━━━━┳━━━━━━━━━━━━━━┓\n",
       "┃<span style=\"color: #800080; text-decoration-color: #800080; font-weight: bold\"> Date         </span>┃<span style=\"color: #800080; text-decoration-color: #800080; font-weight: bold\"> Title                            </span>┃<span style=\"color: #800080; text-decoration-color: #800080; font-weight: bold\"> Production Budget </span>┃<span style=\"color: #800080; text-decoration-color: #800080; font-weight: bold\">   Box Office </span>┃\n",
       "┡━━━━━━━━━━━━━━╇━━━━━━━━━━━━━━━━━━━━━━━━━━━━━━━━━━╇━━━━━━━━━━━━━━━━━━━╇━━━━━━━━━━━━━━┩\n",
       "│<span style=\"color: #7f7f7f; text-decoration-color: #7f7f7f\"> Dec 20, 2019 </span>│ Star Wars: The Rise of Skywalker │      $275,000,000 │ $375,126,118 │\n",
       "│<span style=\"color: #7f7f7f; text-decoration-color: #7f7f7f\"> May 25, 2018 </span>│ <span style=\"color: #800000; text-decoration-color: #800000\">Solo</span>: A Star Wars Story          │      $275,000,000 │ $393,151,347 │\n",
       "└──────────────┴──────────────────────────────────┴───────────────────┴──────────────┘\n",
       "</pre>\n"
      ],
      "text/plain": [
       "┏━━━━━━━━━━━━━━┳━━━━━━━━━━━━━━━━━━━━━━━━━━━━━━━━━━┳━━━━━━━━━━━━━━━━━━━┳━━━━━━━━━━━━━━┓\n",
       "┃\u001b[1;35m \u001b[0m\u001b[1;35mDate        \u001b[0m\u001b[1;35m \u001b[0m┃\u001b[1;35m \u001b[0m\u001b[1;35mTitle                           \u001b[0m\u001b[1;35m \u001b[0m┃\u001b[1;35m \u001b[0m\u001b[1;35mProduction Budget\u001b[0m\u001b[1;35m \u001b[0m┃\u001b[1;35m \u001b[0m\u001b[1;35m  Box Office\u001b[0m\u001b[1;35m \u001b[0m┃\n",
       "┡━━━━━━━━━━━━━━╇━━━━━━━━━━━━━━━━━━━━━━━━━━━━━━━━━━╇━━━━━━━━━━━━━━━━━━━╇━━━━━━━━━━━━━━┩\n",
       "│\u001b[2m \u001b[0m\u001b[2mDec 20, 2019\u001b[0m\u001b[2m \u001b[0m│ Star Wars: The Rise of Skywalker │      $275,000,000 │ $375,126,118 │\n",
       "│\u001b[2m \u001b[0m\u001b[2mMay 25, 2018\u001b[0m\u001b[2m \u001b[0m│ \u001b[31mSolo\u001b[0m: A Star Wars Story          │      $275,000,000 │ $393,151,347 │\n",
       "└──────────────┴──────────────────────────────────┴───────────────────┴──────────────┘\n"
      ]
     },
     "metadata": {},
     "output_type": "display_data"
    }
   ],
   "source": [
    "from rich.console import Console\n",
    "from rich.table import Table\n",
    "\n",
    "console = Console()\n",
    "\n",
    "table = Table(show_header=True, header_style=\"bold magenta\")\n",
    "table.add_column(\"Date\", style=\"dim\", width=12)\n",
    "table.add_column(\"Title\")\n",
    "table.add_column(\"Production Budget\", justify=\"right\")\n",
    "table.add_column(\"Box Office\", justify=\"right\")\n",
    "table.add_row(\n",
    "    \"Dec 20, 2019\", \"Star Wars: The Rise of Skywalker\", \"$275,000,000\", \"$375,126,118\"\n",
    ")\n",
    "table.add_row(\n",
    "    \"May 25, 2018\",\n",
    "    \"[red]Solo[/red]: A Star Wars Story\",\n",
    "    \"$275,000,000\",\n",
    "    \"$393,151,347\",\n",
    ")\n",
    "console.print(table)"
   ]
  },
  {
   "cell_type": "markdown",
   "id": "fae5fc57",
   "metadata": {},
   "source": [
    "#### 数据集划分"
   ]
  },
  {
   "cell_type": "code",
   "execution_count": null,
   "id": "f01bdd4e",
   "metadata": {},
   "outputs": [],
   "source": [
    "import pandas as pd\n",
    "from pathlib import Path\n",
    "import shutil\n",
    "\n",
    "# 定义 CSV 文件路径\n",
    "csv_path = Path(\"/mnt/e/VScode/WS-Hub/WS-UNet/UNet/datasets_kaggle/ISIC/HAM10000_metadata.csv\")\n",
    "df = pd.read_csv(csv_path)\n",
    "\n",
    "# 定义图片根目录\n",
    "image_root = Path(\"/mnt/e/VScode/WS-Hub/WS-UNet/UNet/datasets_kaggle/ISIC/HAM10000_images\")\n",
    "\n",
    "# 遍历 DataFrame\n",
    "for index, row in df.iterrows():\n",
    "    # 获取图片 ID 和标签\n",
    "    image_id = row[\"image_id\"]\n",
    "    dx_type = row[\"dx_type\"]\n",
    "    label = row[\"dx\"]\n",
    "    \n",
    "    # 源图片路径\n",
    "    source_path = image_root / f\"{image_id}.jpg\"\n",
    "    \n",
    "    # 目标目录路径\n",
    "    target_dir = image_root / label\n",
    "    target_dir.mkdir(parents=True, exist_ok=True)  # 确保目标目录存在\n",
    "    \n",
    "    # 目标图片路径\n",
    "    target_path = target_dir / f\"{image_id}.jpg\"\n",
    "    \n",
    "    # 检查源文件是否存在\n",
    "    if source_path.exists():\n",
    "        # 移动文件\n",
    "        shutil.move(str(source_path), str(target_path))\n",
    "        print(f\"Moved: {source_path} -> {target_path}\")\n",
    "    else:\n",
    "        print(f\"Source file does not exist: {source_path}\")"
   ]
  }
 ],
 "metadata": {
  "kernelspec": {
   "display_name": "torch",
   "language": "python",
   "name": "python3"
  },
  "language_info": {
   "codemirror_mode": {
    "name": "ipython",
    "version": 3
   },
   "file_extension": ".py",
   "mimetype": "text/x-python",
   "name": "python",
   "nbconvert_exporter": "python",
   "pygments_lexer": "ipython3",
   "version": "3.11.9"
  }
 },
 "nbformat": 4,
 "nbformat_minor": 5
}
